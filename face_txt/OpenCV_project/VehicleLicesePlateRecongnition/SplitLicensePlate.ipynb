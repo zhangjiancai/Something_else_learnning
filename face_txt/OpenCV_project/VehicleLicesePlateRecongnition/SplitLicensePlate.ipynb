{
 "cells": [
  {
   "cell_type": "code",
   "execution_count": null,
   "metadata": {},
   "outputs": [],
   "source": [
    "import cv2\n",
    "import matplotlib.pyplot as plt\n"
   ]
  },
  {
   "cell_type": "code",
   "execution_count": null,
   "metadata": {},
   "outputs": [],
   "source": [
    "image=cv2.imread(\"gg.bmp\")\n",
    "o = image.copy()\n",
    "plt.imshow(image)"
   ]
  },
  {
   "cell_type": "code",
   "execution_count": null,
   "metadata": {},
   "outputs": [],
   "source": [
    "#图像去噪灰度处理\n",
    "image = cv2.GaussianBlur(image, (3, 3), 0)\n",
    "plt.imshow(image)"
   ]
  },
  {
   "cell_type": "code",
   "execution_count": null,
   "metadata": {},
   "outputs": [],
   "source": [
    "grayimage = cv2.cvtColor(image, cv2.COLOR_BGR2GRAY)\n",
    "plt.imshow(grayimage)"
   ]
  },
  {
   "cell_type": "code",
   "execution_count": null,
   "metadata": {},
   "outputs": [],
   "source": [
    "import numpy as np\n",
    "\n",
    "#创建一个6x6的BGR三通道图片\n",
    "img6x6 = np.zeros((6,6,3), dtype=np.uint8) \n",
    "#Blue通道取值0~99随机值\n",
    "img6x6[:,:,0] = np.random.randint(0, 100, size=36).reshape(6,6)\n",
    "#Green通道取值100~199随机值\n",
    "img6x6[:,:,1] = np.random.randint(100, 200, size=36).reshape(6,6)\n",
    "#Red通道取值200~255随机值\n",
    "img6x6[:,:,2] = np.random.randint(200, 256, size=36).reshape(6,6)\n",
    "\n",
    "plt.imshow(img6x6)"
   ]
  },
  {
   "cell_type": "code",
   "execution_count": null,
   "metadata": {},
   "outputs": [],
   "source": [
    "plt.imshow(cv2.threshold(img6x6, 128, 255, cv2.THRESH_BINARY)[1])"
   ]
  },
  {
   "cell_type": "code",
   "execution_count": null,
   "metadata": {},
   "outputs": [],
   "source": [
    "image = cv2.threshold(grayimage, 0, 255, cv2.THRESH_OTSU)[1]\n",
    "plt.imshow(image)"
   ]
  },
  {
   "cell_type": "code",
   "execution_count": null,
   "metadata": {},
   "outputs": [],
   "source": [
    "kernel = cv2.getStructuringElement(cv2.MORPH_RECT, (2, 2))\n",
    "image = cv2.dilate(image, kernel)\n",
    "plt.imshow(image)"
   ]
  },
  {
   "cell_type": "code",
   "execution_count": null,
   "metadata": {},
   "outputs": [],
   "source": [
    "contours,hierarchy=cv2.findContours(image,cv2.RETR_EXTERNAL, cv2.CHAIN_APPROX_SIMPLE)\n",
    "x = cv2.drawContours(o.copy(), contours, -1, (0, 0, 255), 1)  \n",
    "plt.imshow(x)"
   ]
  },
  {
   "cell_type": "code",
   "execution_count": null,
   "metadata": {},
   "outputs": [],
   "source": [
    "chars = []\n",
    "for item in contours:\n",
    "    rect = cv2.boundingRect(item)  \n",
    "    x,y,w,h = cv2.boundingRect(item)  \n",
    "    chars.append(rect)\n",
    "print(\"共找到轮廓个数：\", len(contours))\n",
    "print(\"包围框列表：\", chars)"
   ]
  },
  {
   "cell_type": "code",
   "execution_count": null,
   "metadata": {},
   "outputs": [],
   "source": [
    "# 指定的条件参数\n",
    "aspect_ratio_range = (1.5, 8.0)  # 高宽比范围\n",
    "min_width = 3  # 最小宽度\n",
    "\n",
    "# 将包围框按照 x 轴坐标值排序（自左向右排序）\n",
    "chars = sorted(chars, key=lambda s: s[0], reverse=False)\n",
    "\n",
    "# 将字符的轮廓筛选出来\n",
    "plateChars = []\n",
    "for word in chars:\n",
    "    if (word[3] > (word[2] * aspect_ratio_range[0])) and (word[3] < (word[2] * aspect_ratio_range[1])) and (word[2] > min_width):\n",
    "        plateChar = image[word[1]:word[1] + word[3], word[0]:word[0] + word[2]]\n",
    "        print(plateChar)\n",
    "        plateChars.append(plateChar)"
   ]
  },
  {
   "cell_type": "code",
   "execution_count": null,
   "metadata": {},
   "outputs": [],
   "source": [
    "for i, im in enumerate(plateChars):\n",
    "    print(\"char\" + str(i), end=\" \")\n",
    "    plt.subplot(1, len(plateChars), i+1)\n",
    "    plt.imshow(im, 'gray')\n",
    "plt.show()"
   ]
  },
  {
   "cell_type": "code",
   "execution_count": null,
   "metadata": {},
   "outputs": [],
   "source": [
    "import glob\n",
    "\n",
    "templateDict = {\n",
    "    0: '0', 1: '1', 2: '2', 3: '3', 4: '4', 5: '5', 6: '6', 7: '7', 8: '8', 9: '9',\n",
    "    10: 'A', 11: 'B', 12: 'C', 13: 'D', 14: 'E', 15: 'F', 16: 'G', 17: 'H',\n",
    "    18: 'J', 19: 'K', 20: 'L', 21: 'M', 22: 'N', 23: 'P', 24: 'Q', 25: 'R',\n",
    "    26: 'S', 27: 'T', 28: 'U', 29: 'V', 30: 'W', 31: 'X', 32: 'Y', 33: 'Z',\n",
    "    34: '京', 35: '津', 36: '冀', 37: '晋', 38: '蒙', 39: '辽', 40: '吉', 41: '黑',\n",
    "    42: '沪', 43: '苏', 44: '浙', 45: '皖', 46: '闽', 47: '赣', 48: '鲁', 49: '豫',\n",
    "    50: '鄂', 51: '湘', 52: '粤', 53: '桂', 54: '琼', 55: '渝', 56: '川', 57: '贵',\n",
    "    58: '云', 59: '藏', 60: '陕', 61: '甘', 62: '青', 63: '宁', 64: '新',\n",
    "    65: '港', 66: '澳', 67: '台'\n",
    "}\n",
    "\n",
    "def getcharacters():\n",
    "    c = []\n",
    "    for i in range(0, 67):\n",
    "        words = glob.glob('template/' + templateDict.get(i) + '/*.*')\n",
    "        c.append(words)\n",
    "    return c\n",
    "\n"
   ]
  },
  {
   "cell_type": "code",
   "execution_count": null,
   "metadata": {},
   "outputs": [],
   "source": [
    "def getMatchValue(template, image):\n",
    "    # 读取模板图像\n",
    "    templateImage = cv2.imread(template)\n",
    "    \n",
    "    # 模板图像色彩空间转换，BGR-->灰度\n",
    "    templateImage = cv2.cvtColor(templateImage, cv2.COLOR_BGR2GRAY)\n",
    "    \n",
    "    # 模板图像阈值处理，灰度-->二值\n",
    "    ret, templateImage = cv2.threshold(templateImage, 0, 255, cv2.THRESH_OTSU)\n",
    "    \n",
    "    # 获取待识别图像的尺寸\n",
    "    height, width = image.shape\n",
    "    \n",
    "    # 将模板图像调整为与待识别图像尺寸一致\n",
    "    templateImage = cv2.resize(templateImage, (width, height))\n",
    "    \n",
    "    # 进行匹配操作并返回匹配值\n",
    "    matchValue = cv2.matchTemplate(image, templateImage, cv2.TM_CCOEFF_NORMED)\n",
    "    return matchValue"
   ]
  },
  {
   "cell_type": "code",
   "execution_count": null,
   "metadata": {},
   "outputs": [],
   "source": [
    "def matchChars(plates, chars):\n",
    "    results = []  # 存储所有的识别结果\n",
    "\n",
    "    for plateChar in plates:  # 逐个遍历要识别的字符\n",
    "        bestMatch = []  # 最佳匹配\n",
    "\n",
    "        for words in chars:  # 遍历字符模板\n",
    "            match = []  # 每个字符的匹配值\n",
    "\n",
    "            for word in words:  # 遍历模板\n",
    "                result = getMatchValue(word, plateChar)  # 计算匹配值\n",
    "                match.append(result)\n",
    "\n",
    "            bestMatch.append(max(match, default=0))  # 将每个字符模板的最佳匹配加入bestMatch\n",
    "\n",
    "        i = bestMatch.index(max(bestMatch, default=0))  # 获取最佳匹配的字符模板索引\n",
    "        r = templateDict[i]  # 获取单个待识别字符的识别结果\n",
    "        results.append(r)  # 将每一个分割字符的识别结果加入results列表\n",
    "\n",
    "    return results  # 返回所有的识别结果\n"
   ]
  }
 ],
 "metadata": {
  "kernelspec": {
   "display_name": "opencv",
   "language": "python",
   "name": "python3"
  },
  "language_info": {
   "codemirror_mode": {
    "name": "ipython",
    "version": 3
   },
   "file_extension": ".py",
   "mimetype": "text/x-python",
   "name": "python",
   "nbconvert_exporter": "python",
   "pygments_lexer": "ipython3",
   "version": "3.10.11"
  },
  "orig_nbformat": 4
 },
 "nbformat": 4,
 "nbformat_minor": 2
}
