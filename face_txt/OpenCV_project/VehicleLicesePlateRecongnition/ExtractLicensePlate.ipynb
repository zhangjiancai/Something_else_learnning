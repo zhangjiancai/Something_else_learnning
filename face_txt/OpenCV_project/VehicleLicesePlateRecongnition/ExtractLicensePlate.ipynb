{
 "cells": [
  {
   "cell_type": "code",
   "execution_count": null,
   "id": "d421063e",
   "metadata": {},
   "outputs": [],
   "source": [
    "import cv2\n",
    "import matplotlib.pyplot as plt"
   ]
  },
  {
   "cell_type": "code",
   "execution_count": null,
   "id": "bb667af2",
   "metadata": {},
   "outputs": [],
   "source": [
    "image = cv2.imread(\"gua.jpg\")\n",
    "rawImage = image.copy()\n",
    "plt.imshow(image)"
   ]
  },
  {
   "cell_type": "code",
   "execution_count": null,
   "id": "459667d3",
   "metadata": {},
   "outputs": [],
   "source": [
    "image = cv2.GaussianBlur(image,(3,3),0)\n",
    "plt.imshow(image)"
   ]
  },
  {
   "cell_type": "code",
   "execution_count": null,
   "id": "40aad95c",
   "metadata": {},
   "outputs": [],
   "source": [
    "image = cv2.cvtColor(image,cv2.COLOR_BGR2GRAY)\n",
    "plt.imshow(image)"
   ]
  },
  {
   "cell_type": "code",
   "execution_count": null,
   "id": "de476608",
   "metadata": {},
   "outputs": [],
   "source": [
    "SobelX = cv2.Sobel(image,cv2.CV_16S,1,0)\n",
    "absX = cv2.convertScaleAbs(SobelX)\n",
    "plt.imshow(absX)\n",
    "image = absX"
   ]
  },
  {
   "cell_type": "code",
   "execution_count": null,
   "id": "d17748c4",
   "metadata": {},
   "outputs": [],
   "source": [
    "ret,image=cv2.threshold(image,0,255,cv2.THRESH_OTSU)\n",
    "plt.imshow(image)\n"
   ]
  },
  {
   "cell_type": "code",
   "execution_count": null,
   "id": "605544a7",
   "metadata": {},
   "outputs": [],
   "source": [
    "\n",
    "kernelX= cv2.getStructuringElement(cv2.MORPH_RECT,(17,5))\n",
    "image = cv2.morphologyEx(image,cv2.MORPH_CLOSE,kernelX)\n",
    "plt.imshow(image)\n"
   ]
  },
  {
   "cell_type": "code",
   "execution_count": null,
   "id": "73ec0c5f",
   "metadata": {},
   "outputs": [],
   "source": [
    "kernelY= cv2.getStructuringElement(cv2.MORPH_RECT,(1,19))\n",
    "image = cv2.morphologyEx(image,cv2.MORPH_OPEN,kernelY)\n",
    "plt.imshow(image)\n"
   ]
  },
  {
   "cell_type": "code",
   "execution_count": null,
   "id": "8a98afa5",
   "metadata": {},
   "outputs": [],
   "source": [
    "image = cv2.medianBlur(image,15)\n",
    "plt.imshow(image)\n"
   ]
  },
  {
   "cell_type": "code",
   "execution_count": null,
   "id": "54b10f84",
   "metadata": {},
   "outputs": [],
   "source": [
    "contours,w1= cv2.findContours(image,cv2.RETR_TREE,cv2.CHAIN_APPROX_SIMPLE)\n",
    "image= cv2.drawContours(rawImage.copy(),contours,-1,(0,0,255),3)\n",
    "plt.imshow(image)\n"
   ]
  },
  {
   "cell_type": "code",
   "execution_count": null,
   "id": "80930015",
   "metadata": {},
   "outputs": [],
   "source": [
    "for item in contours:\n",
    "    rect = cv2.boundingRect(item)\n",
    "x=rect[0]\n",
    "y=rect[1] \n",
    "weight=rect[2]\n",
    "height=rect[3]\n"
   ]
  }
 ],
 "metadata": {
  "kernelspec": {
   "display_name": "Python 3 (ipykernel)",
   "language": "python",
   "name": "python3"
  },
  "language_info": {
   "codemirror_mode": {
    "name": "ipython",
    "version": 3
   },
   "file_extension": ".py",
   "mimetype": "text/x-python",
   "name": "python",
   "nbconvert_exporter": "python",
   "pygments_lexer": "ipython3",
   "version": "3.10.11"
  }
 },
 "nbformat": 4,
 "nbformat_minor": 5
}
