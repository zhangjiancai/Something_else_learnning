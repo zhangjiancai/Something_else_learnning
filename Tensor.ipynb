{
 "cells": [
  {
   "cell_type": "code",
   "execution_count": 1,
   "metadata": {},
   "outputs": [],
   "source": [
    "import numpy as np "
   ]
  },
  {
   "cell_type": "code",
   "execution_count": 2,
   "metadata": {},
   "outputs": [
    {
     "name": "stdout",
     "output_type": "stream",
     "text": [
      "标量：5\n",
      "向量：[1 2]\n",
      "矩阵：[[1 2]\n",
      " [3 4]]\n",
      "张量：[[[1 2 3]\n",
      "  [4 5 6]\n",
      "  [7 8 9]]\n",
      "\n",
      " [[1 2 3]\n",
      "  [4 5 6]\n",
      "  [7 8 9]]\n",
      "\n",
      " [[1 2 3]\n",
      "  [4 5 6]\n",
      "  [7 8 9]]]\n"
     ]
    }
   ],
   "source": [
    "#标量\n",
    "s = 5\n",
    "#向量\n",
    "v = np.array( [1,2] )\n",
    "#矩阵\n",
    "m = np.array( [ [1,2] , [3,4] ] )\n",
    "#张量\n",
    "t = np.array([\n",
    "    [ [1,2,3] , [4,5,6] , [7,8,9] ],\n",
    "    \n",
    "    [ [1,2,3] , [4,5,6] , [7,8,9] ],\n",
    "    \n",
    "    [ [1,2,3] , [4,5,6] , [7,8,9] ],\n",
    "])\n",
    "\n",
    "\n",
    "\n",
    "print(\"标量：\" + str(s))\n",
    "print(\"向量：\" + str(v))\n",
    "print(\"矩阵：\" + str(m))\n",
    "print(\"张量：\" + str(t))"
   ]
  },
  {
   "cell_type": "code",
   "execution_count": 3,
   "metadata": {},
   "outputs": [
    {
     "name": "stdout",
     "output_type": "stream",
     "text": [
      "A: [[1 0 2 0]\n",
      " [1 0 0 0]\n",
      " [2 0 3 0]]\n",
      "A_T : [[1 1 2]\n",
      " [0 0 0]\n",
      " [2 0 3]\n",
      " [0 0 0]]\n"
     ]
    }
   ],
   "source": [
    "#A是矩阵。A_t是A的转置矩阵。\n",
    "A = np.array(   [  [1,0,2,0]    ,   [1,0,0,0]   ,   [2,0,3,0]   ]   )\n",
    "A_t = A.transpose()\n",
    "\n",
    "print(\"A:\",A)\n",
    "\n",
    "print(\"A_T :\", A_t)\n",
    "\n"
   ]
  },
  {
   "cell_type": "code",
   "execution_count": 4,
   "metadata": {},
   "outputs": [
    {
     "name": "stdout",
     "output_type": "stream",
     "text": [
      "矩阵相加： [[ 3  5  7  9 11]\n",
      " [13 15 17 19 21]]\n"
     ]
    }
   ],
   "source": [
    "#矩阵相加\n",
    "a = np.array(   [   [1,2,3,4,5] ,   [6,7,8,9,10]    ]   )\n",
    "b = np.array(   [   [2,3,4,5,6] ,   [7,8,9,10,11]   ]   )\n",
    "print(\"矩阵相加：\" , a + b)\n"
   ]
  },
  {
   "cell_type": "code",
   "execution_count": 5,
   "metadata": {},
   "outputs": [
    {
     "name": "stdout",
     "output_type": "stream",
     "text": [
      "按矩阵乘法规则： [[ 81  96]\n",
      " [186 226]]\n",
      "按逐元素相乘： [[  2   6  12  20  30]\n",
      " [ 42  56  72  90 110]]\n",
      "按逐元素相乘： [[  2   6  12  20  30]\n",
      " [ 42  56  72  90 110]]\n",
      "向量内积： 130\n"
     ]
    }
   ],
   "source": [
    "m1 = np.array(  [   [1,2,3,4,5]   ,  [6,7,8,9,10]  ]   )\n",
    "m2 = np.array(  [   [1,2]   ,   [2,3]   ,   [4,5]   ,   [6,7]   ,   [8,9]   ]   )\n",
    "\n",
    "print(\"按矩阵乘法规则：\"    ,   np.dot(m1,m2))\n",
    "#print(\"按逐元素相乘：\"      ,   np.multiply(m1,m2))\n",
    "#print(\"按逐元素相乘：\"      ,   m1*m2)\n",
    "\n",
    "print(\"按逐元素相乘：\"      ,   np.multiply(a,b))\n",
    "print(\"按逐元素相乘：\"      ,   a*b)\n",
    "\n",
    "v1 = np.array([1,2,3,4,5])\n",
    "v2 = np.array([6,7,8,9,10])\n",
    "print(\"向量内积：\", np.dot(v1,v2))\n",
    "\n"
   ]
  },
  {
   "cell_type": "code",
   "execution_count": 6,
   "metadata": {},
   "outputs": [
    {
     "name": "stdout",
     "output_type": "stream",
     "text": [
      "  [[ 1.  2.  3.  4.  5.]\n",
      " [ 6.  7.  8.  9. 10.]]\n"
     ]
    },
    {
     "data": {
      "text/plain": [
       "array([[1., 0., 0., 0.],\n",
       "       [0., 1., 0., 0.],\n",
       "       [0., 0., 1., 0.],\n",
       "       [0., 0., 0., 1.]])"
      ]
     },
     "execution_count": 6,
     "metadata": {},
     "output_type": "execute_result"
    }
   ],
   "source": [
    "print(\" \" , np.dot(m1,np.identity(5)))\n",
    "\n",
    "np.identity(4)\n",
    "\n",
    "#np.identity是定义单位矩阵的函数"
   ]
  },
  {
   "cell_type": "code",
   "execution_count": 7,
   "metadata": {},
   "outputs": [
    {
     "name": "stdout",
     "output_type": "stream",
     "text": [
      "[[1. 0. 0. 0.]\n",
      " [0. 1. 0. 0.]\n",
      " [0. 0. 1. 0.]\n",
      " [0. 0. 0. 1.]]\n",
      "逆矩阵: [[1. 0. 0. 0.]\n",
      " [0. 1. 0. 0.]\n",
      " [0. 0. 1. 0.]\n",
      " [0. 0. 0. 1.]]\n",
      "m逆矩阵: [[-2.   1. ]\n",
      " [ 1.5 -0.5]]\n",
      "\n"
     ]
    }
   ],
   "source": [
    "\n",
    "#print(\"m1的逆矩阵:\" , np.linalg.inv(m1))\n",
    "\n",
    "print(np.identity(4))\n",
    "\n",
    "\n",
    "print(\"逆矩阵:\", np.linalg.inv(np.identity(4)))\n",
    "\n",
    "print(\"m逆矩阵:\",np.linalg.inv(m))\n",
    "\n",
    "print()"
   ]
  },
  {
   "cell_type": "code",
   "execution_count": 8,
   "metadata": {},
   "outputs": [
    {
     "name": "stdout",
     "output_type": "stream",
     "text": [
      "1.0\n"
     ]
    }
   ],
   "source": [
    "def inverse(number):\n",
    "    return 1 / number\n",
    "\n",
    "#print(inverse(0))\n",
    "print(inverse(1))\n"
   ]
  },
  {
   "cell_type": "code",
   "execution_count": 9,
   "metadata": {},
   "outputs": [
    {
     "name": "stdout",
     "output_type": "stream",
     "text": [
      "v1 [1 2 3 4 5]\n",
      "v2 [ 6  7  8  9 10]\n",
      "v3 [2 3 4 5 6 7 8]\n",
      "向量v1的L0范数: 5.0\n",
      "向量v1的L1范数: 15.0\n",
      "向量v1的L5范数: 5.360220495669696\n",
      "向量v2的L1范数: 40.0\n",
      "向量v2的L2范数: 18.16590212458495\n",
      "向量v2的无穷范数: 10.0\n",
      "向量v3的L0范数: 7.0\n",
      "向量v3的无穷范数: 8.0\n",
      "a [[ 1  2  3  4  5]\n",
      " [ 6  7  8  9 10]]\n",
      "矩阵a的F范数: 19.621416870348583\n"
     ]
    }
   ],
   "source": [
    "from cmath import pi\n",
    "\n",
    "\n",
    "print(\"v1\",v1)\n",
    "\n",
    "v3 = np.array([2,3,4,5,6,7,8])\n",
    "\n",
    "print(\"v2\",v2)\n",
    "\n",
    "print(\"v3\",v3)\n",
    "\n",
    "print(\"向量v1的L0范数:\",np.linalg.norm(v1,ord=0))\n",
    "print(\"向量v1的L1范数:\",np.linalg.norm(v1,ord=1))\n",
    "print(\"向量v1的L5范数:\" , np.linalg.norm(v1,ord=5))\n",
    "\n",
    "print(\"向量v2的L1范数:\",np.linalg.norm(v2,ord=1))\n",
    "print(\"向量v2的L2范数:\",np.linalg.norm(v2,ord=2))\n",
    "\n",
    "print(\"向量v2的无穷范数:\",np.linalg.norm(v2,ord=np.Inf))\n",
    "\n",
    "print(\"向量v3的L0范数:\",np.linalg.norm(v3,ord=0))\n",
    "print(\"向量v3的无穷范数:\",np.linalg.norm(v3,ord=np.Inf))\n",
    "\n",
    "print(\"a\",a)\n",
    "print(\"矩阵a的F范数:\",np.linalg.norm(a,ord=\"fro\"))"
   ]
  }
 ],
 "metadata": {
  "kernelspec": {
   "display_name": "Python 3.11.0 64-bit",
   "language": "python",
   "name": "python3"
  },
  "language_info": {
   "codemirror_mode": {
    "name": "ipython",
    "version": 3
   },
   "file_extension": ".py",
   "mimetype": "text/x-python",
   "name": "python",
   "nbconvert_exporter": "python",
   "pygments_lexer": "ipython3",
   "version": "3.11.0"
  },
  "orig_nbformat": 4,
  "vscode": {
   "interpreter": {
    "hash": "5238573367df39f7286bb46f9ff5f08f63a01a80960060ce41e3c79b190280fa"
   }
  }
 },
 "nbformat": 4,
 "nbformat_minor": 2
}
